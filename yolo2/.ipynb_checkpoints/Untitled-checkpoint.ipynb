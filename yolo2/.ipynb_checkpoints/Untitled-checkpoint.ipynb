{
 "cells": [
  {
   "cell_type": "code",
   "execution_count": 1,
   "metadata": {},
   "outputs": [],
   "source": [
    "from darknet import Darknet\n",
    "import dataset\n",
    "import torch\n",
    "from torch.autograd import Variable\n",
    "from torchvision import datasets, transforms\n",
    "from utils import *\n",
    "import os\n",
    "\n",
    "datacfg = 'cfg/voc.data'\n",
    "cfgfile = 'cfg/yolo-voc.cfg'\n",
    "weightfile = 'weights/000510.weights'\n",
    "outfile = 'comp4_det_test_'\n",
    "\n",
    "\n",
    "options = read_data_cfg(datacfg)\n",
    "valid_images = options['valid']\n",
    "name_list = options['names']\n",
    "prefix = 'results'\n",
    "names = load_class_names(name_list)\n"
   ]
  },
  {
   "cell_type": "code",
   "execution_count": 2,
   "metadata": {},
   "outputs": [
    {
     "data": {
      "text/plain": [
       "{'gpus': '0,1,2,3',\n",
       " 'num_workers': '10',\n",
       " 'train': 'data/voc_train.txt',\n",
       " 'valid': 'data/voc_train.txt',\n",
       " 'names': 'data/an.names',\n",
       " 'backup': 'backup'}"
      ]
     },
     "execution_count": 2,
     "metadata": {},
     "output_type": "execute_result"
    }
   ],
   "source": [
    "options"
   ]
  },
  {
   "cell_type": "code",
   "execution_count": null,
   "metadata": {},
   "outputs": [],
   "source": [
    "\n",
    "with open(valid_images) as fp:\n",
    "    tmp_files = fp.readlines()\n",
    "    valid_files = [item.rstrip() for item in tmp_files]\n",
    "\n",
    "m = Darknet(cfgfile)\n",
    "m.print_network()\n",
    "m.load_weights(weightfile)\n",
    "m.cuda()\n",
    "m.eval()\n",
    "\n",
    "valid_dataset = dataset.listDataset(valid_images, shape=(m.width, m.height),\n",
    "                   shuffle=False,\n",
    "                   transform=transforms.Compose([\n",
    "                       transforms.ToTensor(),\n",
    "                   ]))\n",
    "valid_batchsize = 16\n",
    "assert(valid_batchsize > 1)\n",
    "\n",
    "kwargs = {'num_workers': 4, 'pin_memory': True}\n",
    "valid_loader = torch.utils.data.DataLoader(\n",
    "    valid_dataset, batch_size=valid_batchsize, shuffle=False, **kwargs) \n",
    "\n",
    "fps = [0]*m.num_classes\n",
    "if not os.path.exists('results'):\n",
    "    os.mkdir('results')\n",
    "for i in range(m.num_classes):\n",
    "    buf = '%s/%s%s.txt' % (prefix, outfile, names[i])\n",
    "    fps[i] = open(buf, 'w')\n",
    "\n",
    "lineId = -1\n",
    "\n",
    "conf_thresh = 0\n",
    "nms_thresh = 0.30\n",
    "for batch_idx, (data, target) in enumerate(valid_loader):\n",
    "    data = data.cuda()\n",
    "    data = Variable(data, volatile = True)\n",
    "    output = m(data).data\n",
    "    batch_boxes = get_region_boxes(output, conf_thresh, m.num_classes, m.anchors, m.num_anchors, 0, 1)\n",
    "    for i in range(output.size(0)):\n",
    "        lineId = lineId + 1\n",
    "        fileId = os.path.basename(valid_files[lineId]).split('.')[0]\n",
    "        width, height = get_image_size(valid_files[lineId])\n",
    "        print(valid_files[lineId])\n",
    "        boxes = batch_boxes[i]\n",
    "        boxes = nms(boxes, nms_thresh)\n",
    "        for box in boxes:\n",
    "            x1 = (box[0] - box[2]/2.0) * width\n",
    "            y1 = (box[1] - box[3]/2.0) * height\n",
    "            x2 = (box[0] + box[2]/2.0) * width\n",
    "            y2 = (box[1] + box[3]/2.0) * height\n",
    "\n",
    "            det_conf = box[4]\n",
    "            for j in range((len(box)-5)/2):\n",
    "                cls_conf = box[5+2*j]\n",
    "                cls_id = box[6+2*j]\n",
    "                prob =det_conf * cls_conf\n",
    "                fps[cls_id].write('%s %f %f %f %f %f\\n' % (fileId, prob, x1, y1, x2, y2))\n",
    "\n",
    "for i in range(m.num_classes):\n",
    "    fps[i].close()\n",
    "\n"
   ]
  }
 ],
 "metadata": {
  "kernelspec": {
   "display_name": "Python 3",
   "language": "python",
   "name": "python3"
  },
  "language_info": {
   "codemirror_mode": {
    "name": "ipython",
    "version": 3
   },
   "file_extension": ".py",
   "mimetype": "text/x-python",
   "name": "python",
   "nbconvert_exporter": "python",
   "pygments_lexer": "ipython3",
   "version": "3.6.5"
  }
 },
 "nbformat": 4,
 "nbformat_minor": 2
}
