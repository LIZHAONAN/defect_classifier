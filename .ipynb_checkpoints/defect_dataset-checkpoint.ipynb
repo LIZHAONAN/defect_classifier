{
 "cells": [
  {
   "cell_type": "code",
   "execution_count": 17,
   "metadata": {},
   "outputs": [],
   "source": [
    "import pandas as pd\n",
    "import numpy as np\n",
    "from PIL import Image\n",
    "from PIL import ImageOps\n",
    "import PIL\n",
    "import torch, torchvision\n",
    "from torchvision import transforms, datasets\n",
    "from torch.utils.data import Dataset, DataLoader\n",
    "import matplotlib.pyplot as plt"
   ]
  },
  {
   "cell_type": "code",
   "execution_count": 18,
   "metadata": {},
   "outputs": [],
   "source": [
    "img_path = '/home/rliu/yolo2/v2_pytorch_yolo2/data/an_data/VOCdevkit/VOC2007/JPEGImages/'\n",
    "csv_path = '/home/rliu/yolo2/v2_pytorch_yolo2/data/an_data/VOCdevkit/VOC2007/csv_labels/train.csv'"
   ]
  },
  {
   "cell_type": "code",
   "execution_count": 19,
   "metadata": {},
   "outputs": [],
   "source": [
    "df_defect = pd.read_csv('/home/rliu/yolo2/v2_pytorch_yolo2/data/an_data/VOCdevkit/VOC2007/csv_labels/labels.csv', sep=\" \")\n",
    "df_train = pd.read_csv('/home/rliu/yolo2/v2_pytorch_yolo2/data/an_data/VOCdevkit/VOC2007/csv_labels/train.csv', sep=\" \")\n",
    "df_test = pd.read_csv('/home/rliu/yolo2/v2_pytorch_yolo2/data/an_data/VOCdevkit/VOC2007/csv_labels/test.csv', sep=\" \")"
   ]
  },
  {
   "cell_type": "code",
   "execution_count": 20,
   "metadata": {},
   "outputs": [],
   "source": [
    "window_size = 45\n",
    "pad_size= window_size"
   ]
  },
  {
   "cell_type": "code",
   "execution_count": 21,
   "metadata": {},
   "outputs": [],
   "source": [
    "def create_circular_mask(h, w, center=None, radius=None):\n",
    "\n",
    "    if center is None: # use the middle of the image\n",
    "        center = [int(w/2), int(h/2)]\n",
    "    if radius is None: # use the smallest distance between the center and image walls\n",
    "        radius = min(center[0], center[1], w-center[0], h-center[1])\n",
    "\n",
    "    Y, X = np.ogrid[:h, :w]\n",
    "    dist_from_center = np.sqrt((X - center[0])**2 + (Y-center[1])**2)\n",
    "\n",
    "    mask = dist_from_center <= radius\n",
    "    mask = mask.astype(int)\n",
    "    return mask\n",
    "mask = create_circular_mask(200,200)"
   ]
  },
  {
   "cell_type": "code",
   "execution_count": 22,
   "metadata": {},
   "outputs": [],
   "source": [
    "class defectDataset(Dataset):\n",
    "    def __init__(self, csv_path='/home/rliu/yolo2/v2_pytorch_yolo2/data/an_data/VOCdevkit/VOC2007/csv_labels/train.csv', img_path='/home/rliu/yolo2/v2_pytorch_yolo2/data/an_data/VOCdevkit/VOC2007/JPEGImages/', window_size=50, pad_size=50, mask = mask, transforms=None):\n",
    "        \"\"\"\n",
    "        Args:\n",
    "            csv_path (string): path to csv file\n",
    "            transform: pytorch transforms for transforms and tensor conversion\n",
    "        \"\"\"\n",
    "        self.data = pd.read_csv(csv_path, sep=\" \")\n",
    "        self.img_path = img_path\n",
    "        self.transforms = transforms\n",
    "        self.window_size = window_size\n",
    "        self.pad_size = pad_size\n",
    "        self.mask = mask\n",
    "\n",
    "    def __getitem__(self, index):\n",
    "        labels = self.data.loc[index]\n",
    "        single_image_label = int(labels['class']) # float\n",
    "        x = labels['x']\n",
    "        y = 1 - labels['y'] # origin of PIL image is top-left\n",
    "        img_index = labels['image_index']\n",
    "        img = Image.open(self.img_path + '%06.0f.jpg' % img_index)\n",
    "        img = img.convert('L')\n",
    "        img = torchvision.transforms.functional.resize(img, (300,300), interpolation=2)\n",
    "        width, height = img.size\n",
    "        img = ImageOps.expand(img, border=self.pad_size, fill=0)\n",
    "        xmin = width * x - self.window_size/2 + self.pad_size\n",
    "        ymin = height * y - self.window_size/2 + self.pad_size\n",
    "        xmax = width * x + self.window_size/2 + self.pad_size\n",
    "        ymax = height * y + self.window_size/2 + self.pad_size\n",
    "        img_resized = img.crop((xmin, ymin, xmax, ymax))\n",
    "        img_resized = torchvision.transforms.functional.resize(img_resized, (200,200), interpolation=2)\n",
    "        img_masked = img_resized * mask\n",
    "        img_masked = Image.fromarray(img_masked.astype('uint8'), 'L')\n",
    "#         img_resized = img_resized * mask\n",
    "#         img_resized = img_resized*mask\n",
    "#         if self.mask is not None:\n",
    "#             img_resized[~mask] = 0\n",
    "        # Transform image to tensor\n",
    "        if self.transforms is not None:\n",
    "            img_masked = self.transforms(img_masked)\n",
    "        # Return image and the label\n",
    "        return (img_masked, single_image_label)\n",
    "\n",
    "    def __len__(self):\n",
    "        return len(self.data.index)\n",
    "        \n",
    "\n",
    "if __name__ == \"__main__\":\n",
    "    transformations = transforms.Compose([transforms.ToTensor()])\n",
    "#     defect_from_csv = \\\n",
    "#         defectDataset('../data/mnist_in_csv.csv', 28, 28, transformations)"
   ]
  },
  {
   "cell_type": "code",
   "execution_count": 40,
   "metadata": {},
   "outputs": [],
   "source": [
    "data_transform = transforms.Compose([\n",
    "        transforms.RandomResizedCrop(200, scale=(1, 1), ratio=(1, 1)),\n",
    "        transforms.RandomRotation((-90,90)),\n",
    "        transforms.ToTensor(),\n",
    "        transforms.Normalize(mean=[0.3019],\n",
    "                             std=[0.1909])\n",
    "    ])"
   ]
  },
  {
   "cell_type": "code",
   "execution_count": 41,
   "metadata": {},
   "outputs": [],
   "source": [
    "defect_dataset = defectDataset(window_size = window_size, transforms=data_transform, mask = mask)\n",
    "dataset_loader = torch.utils.data.DataLoader(defect_dataset,\n",
    "                                             batch_size=4, shuffle=True,\n",
    "                                             num_workers=4)"
   ]
  },
  {
   "cell_type": "code",
   "execution_count": 42,
   "metadata": {},
   "outputs": [],
   "source": [
    "def imshow(img):\n",
    "    img = img * 0.1909 + 0.3019     # unnormalize\n",
    "    npimg = img.numpy()\n",
    "    plt.imshow(np.transpose(npimg, (1, 2, 0)))"
   ]
  },
  {
   "cell_type": "code",
   "execution_count": 47,
   "metadata": {},
   "outputs": [
    {
     "name": "stdout",
     "output_type": "stream",
     "text": [
      "GroundTruth:    pos pos_o   pos   pos\n",
      "tensor([0, 2, 0, 0])\n"
     ]
    },
    {
     "data": {
      "image/png": "[encoded data removed]",
      "text/plain": [
       "<Figure size 432x288 with 1 Axes>"
      ]
     },
     "metadata": {
      "needs_background": "light"
     },
     "output_type": "display_data"
    }
   ],
   "source": [
    "dataiter = iter(dataset_loader)\n",
    "images, labels = dataiter.next()\n",
    "imshow(torchvision.utils.make_grid(images))\n",
    "classes = [\"pos\",\"neg\",\"pos_o\",\"nuc\",\"non\"]\n",
    "print('GroundTruth: ', ' '.join('%5s' % classes[labels[j]] for j in range(4)))\n",
    "print(labels)"
   ]
  },
  {
   "cell_type": "code",
   "execution_count": 32,
   "metadata": {},
   "outputs": [],
   "source": [
    "data = pd.read_csv(csv_path, sep=\" \")\n",
    "labels = data.loc[0]\n",
    "single_image_label = int(labels['class']) # float\n",
    "x = labels['x']\n",
    "y = 1 - labels['y'] # origin of PIL image is top-left\n",
    "img_index = labels['image_index']\n",
    "img = Image.open('/home/rliu/yolo2/v2_pytorch_yolo2/data/an_data/VOCdevkit/VOC2007/JPEGImages/000001.jpg')\n",
    "img = img.convert('L')\n",
    "img = torchvision.transforms.functional.resize(img, (300,300), interpolation=2)\n",
    "width, height = img.size\n",
    "img = ImageOps.expand(img, border=pad_size, fill=0)\n",
    "xmin = width * x - window_size/2 + pad_size\n",
    "ymin = height * y - window_size/2 + pad_size\n",
    "xmax = width * x + window_size/2 + pad_size\n",
    "ymax = height * y + window_size/2 + pad_size\n",
    "img_resized = img.crop((xmin, ymin, xmax, ymax))\n",
    "img_resized = torchvision.transforms.functional.resize(img_resized, (200,200), interpolation=2)\n",
    "im_masked = img_resized*mask\n",
    "im_masked = Image.fromarray(im_masked.astype('uint8'), 'L')"
   ]
  },
  {
   "cell_type": "code",
   "execution_count": 33,
   "metadata": {},
   "outputs": [
    {
     "data": {
      "image/png": "[encoded data removed]",
      "text/plain": [
       "<PIL.Image.Image image mode=L size=200x200 at 0x7F4F11E07F98>"
      ]
     },
     "execution_count": 33,
     "metadata": {},
     "output_type": "execute_result"
    }
   ],
   "source": [
    "im_masked"
   ]
  },
  {
   "cell_type": "code",
   "execution_count": null,
   "metadata": {},
   "outputs": [],
   "source": []
  }
 ],
 "metadata": {
  "kernelspec": {
   "display_name": "Python 3",
   "language": "python",
   "name": "python3"
  },
  "language_info": {
   "codemirror_mode": {
    "name": "ipython",
    "version": 3
   },
   "file_extension": ".py",
   "mimetype": "text/x-python",
   "name": "python",
   "nbconvert_exporter": "python",
   "pygments_lexer": "ipython3",
   "version": "3.6.5"
  }
 },
 "nbformat": 4,
 "nbformat_minor": 2
}
